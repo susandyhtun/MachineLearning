{
 "cells": [
  {
   "cell_type": "markdown",
   "id": "6af6f2a3",
   "metadata": {},
   "source": [
    "#### We will build a logistic regression model to predict whether a student gets admitted into a university. Suppose that we are the administrator of a university department and we want to determine each applicant's chance of admission based on their results on two exams. We have historical data from previous applicants that we can use as a training set for logistic regression. For each training example, we have the applicant's scores on two exams and the admissions decision.\n"
   ]
  },
  {
   "cell_type": "code",
   "execution_count": 1,
   "id": "4b0cf07a",
   "metadata": {},
   "outputs": [
    {
     "data": {
      "text/html": [
       "<div>\n",
       "<style scoped>\n",
       "    .dataframe tbody tr th:only-of-type {\n",
       "        vertical-align: middle;\n",
       "    }\n",
       "\n",
       "    .dataframe tbody tr th {\n",
       "        vertical-align: top;\n",
       "    }\n",
       "\n",
       "    .dataframe thead th {\n",
       "        text-align: right;\n",
       "    }\n",
       "</style>\n",
       "<table border=\"1\" class=\"dataframe\">\n",
       "  <thead>\n",
       "    <tr style=\"text-align: right;\">\n",
       "      <th></th>\n",
       "      <th>exam1</th>\n",
       "      <th>exam2</th>\n",
       "      <th>admission</th>\n",
       "    </tr>\n",
       "  </thead>\n",
       "  <tbody>\n",
       "    <tr>\n",
       "      <th>0</th>\n",
       "      <td>34.623660</td>\n",
       "      <td>78.024693</td>\n",
       "      <td>0</td>\n",
       "    </tr>\n",
       "    <tr>\n",
       "      <th>1</th>\n",
       "      <td>30.286711</td>\n",
       "      <td>43.894998</td>\n",
       "      <td>0</td>\n",
       "    </tr>\n",
       "    <tr>\n",
       "      <th>2</th>\n",
       "      <td>35.847409</td>\n",
       "      <td>72.902198</td>\n",
       "      <td>0</td>\n",
       "    </tr>\n",
       "    <tr>\n",
       "      <th>3</th>\n",
       "      <td>60.182599</td>\n",
       "      <td>86.308552</td>\n",
       "      <td>1</td>\n",
       "    </tr>\n",
       "    <tr>\n",
       "      <th>4</th>\n",
       "      <td>79.032736</td>\n",
       "      <td>75.344376</td>\n",
       "      <td>1</td>\n",
       "    </tr>\n",
       "  </tbody>\n",
       "</table>\n",
       "</div>"
      ],
      "text/plain": [
       "       exam1      exam2  admission\n",
       "0  34.623660  78.024693          0\n",
       "1  30.286711  43.894998          0\n",
       "2  35.847409  72.902198          0\n",
       "3  60.182599  86.308552          1\n",
       "4  79.032736  75.344376          1"
      ]
     },
     "execution_count": 1,
     "metadata": {},
     "output_type": "execute_result"
    }
   ],
   "source": [
    "# load the data\n",
    "\n",
    "import pandas as pd\n",
    "import numpy as np\n",
    "import matplotlib.pyplot as plt\n",
    "\n",
    "data = pd.read_table('ex2data1.txt', header = None, sep=',')\n",
    "#data.reset_index(drop=True, inplace = True)\n",
    "data.columns =['exam1', 'exam2', 'admission']\n",
    "data.head()"
   ]
  },
  {
   "cell_type": "markdown",
   "id": "6810d067",
   "metadata": {},
   "source": [
    "## Visualizing the Data"
   ]
  },
  {
   "cell_type": "code",
   "execution_count": 2,
   "id": "c375b646",
   "metadata": {},
   "outputs": [
    {
     "data": {
      "image/png": "[encoded data removed]",
      "text/plain": [
       "<Figure size 432x288 with 1 Axes>"
      ]
     },
     "metadata": {
      "needs_background": "light"
     },
     "output_type": "display_data"
    }
   ],
   "source": [
    "# finding the indices of 1 and 0 from 'admission' column\n",
    "\n",
    "def plotdata(data):\n",
    "    one_index = data.index[data['admission'] ==1].tolist()\n",
    "    zero_index = data.index[data['admission'] ==0].tolist()\n",
    "\n",
    "    plt.plot(data.iloc[one_index, 0], data.iloc[one_index, 1], 'k+', linewidth = 2, markersize = 7)\n",
    "    plt.plot(data.iloc[zero_index, 0], data.iloc[zero_index, 1], 'ko', markersize = 7)\n",
    "    plt.xlabel('Exam 1 score')\n",
    "    plt.ylabel('Exam 2 score')\n",
    "    plt.legend(['Admitted', 'Not admitted'])\n",
    "    plt.show()\n",
    "\n",
    "plotdata(data)"
   ]
  },
  {
   "cell_type": "markdown",
   "id": "684b6643",
   "metadata": {},
   "source": [
    "#### Here, we can find that the admitted students have the total score (the sum of exam1 score and exam2 score) more than 100. Those who are not admitted have total score lower than 100."
   ]
  },
  {
   "cell_type": "markdown",
   "id": "2db07098",
   "metadata": {},
   "source": [
    "## Sigmoid Function"
   ]
  },
  {
   "attachments": {
    "image-2.png": {
     "image/png": "[encoded data removed]"
    },
    "image.png": {
     "image/png": "[encoded data removed]"
    }
   },
   "cell_type": "markdown",
   "id": "687fd233",
   "metadata": {},
   "source": [
    "#### The logistic regression hypothesis defined as: ![image.png](attachment:image.png)\n",
    "#### where function g is the sigmoid function. It is defined as: ![image-2.png](attachment:image-2.png)"
   ]
  },
  {
   "cell_type": "code",
   "execution_count": 3,
   "id": "f2459822",
   "metadata": {},
   "outputs": [],
   "source": [
    "# the function 'sigmoid' can compute the sigmoid of each value of z (z can be a matrix vector or a scalar)\n",
    "\n",
    "def sigmoid(z):\n",
    "    g = 1/(1 + np.exp(-z))\n",
    "    return g"
   ]
  },
  {
   "cell_type": "code",
   "execution_count": 4,
   "id": "61b371da",
   "metadata": {},
   "outputs": [
    {
     "data": {
      "text/plain": [
       "array([[0.5, 0.5],\n",
       "       [0.5, 0.5]])"
      ]
     },
     "execution_count": 4,
     "metadata": {},
     "output_type": "execute_result"
    }
   ],
   "source": [
    "test = np.zeros((2,2))\n",
    "sigmoid(test)"
   ]
  },
  {
   "cell_type": "markdown",
   "id": "702a4680",
   "metadata": {},
   "source": [
    "## Cost Function and Gradient"
   ]
  },
  {
   "attachments": {
    "image-2.png": {
     "image/png": "[encoded data removed]"
    },
    "image.png": {
     "image/png": "[encoded data removed]"
    }
   },
   "cell_type": "markdown",
   "id": "a94d3f45",
   "metadata": {},
   "source": [
    "#### The cost function in logistic regression is : ![image.png](attachment:image.png)\n",
    "#### and the gradient of the cost is a vector of the same length as theta where the jth element (for j = 0,1,2,..,n) is defined as : ![image-2.png](attachment:image-2.png)"
   ]
  },
  {
   "cell_type": "code",
   "execution_count": 5,
   "id": "20da08d8",
   "metadata": {},
   "outputs": [],
   "source": [
    "# getting total number of training examples\n",
    "m = len(data.iloc[:, 2])\n",
    "\n",
    "# define x and y\n",
    "y = data.iloc[:, 2].to_numpy().reshape(m,1)\n",
    "x = np.concatenate((np.ones((m,1)), data.iloc[:, :2]), axis = 1)\n",
    "x\n",
    "\n",
    "# initialize theta\n",
    "theta_start = np.zeros((x.shape[1], 1))\n",
    "theta_start2 = np.zeros(x.shape[1])"
   ]
  },
  {
   "cell_type": "code",
   "execution_count": 6,
   "id": "f4269d24",
   "metadata": {},
   "outputs": [
    {
     "data": {
      "text/plain": [
       "(100, 3)"
      ]
     },
     "execution_count": 6,
     "metadata": {},
     "output_type": "execute_result"
    }
   ],
   "source": [
    "x.shape"
   ]
  },
  {
   "cell_type": "code",
   "execution_count": 7,
   "id": "e467dfff",
   "metadata": {},
   "outputs": [],
   "source": [
    "# this function will compute cost of using theta as the parameter for logistic regression \n",
    "\n",
    "def J(theta, x, y):\n",
    "    m = len(y)\n",
    "    y_prime = np.transpose(y)\n",
    "    x_prime = np.transpose(x)\n",
    "    h_theta = sigmoid(np.dot(x,theta))\n",
    "    \n",
    "    J = (-np.dot(y_prime, np.log(h_theta)) -  np.dot(np.transpose(1-y), np.log(1-h_theta)))/ m\n",
    "    J = np.sum(J)\n",
    "    \n",
    "    #grad_of_cost = (np.dot(x_prime, (h_theta - y)))/ m\n",
    "    \n",
    "    return J"
   ]
  },
  {
   "cell_type": "code",
   "execution_count": 8,
   "id": "914bde27",
   "metadata": {},
   "outputs": [],
   "source": [
    "# Gradient of the cost\n",
    "\n",
    "def Gradient(theta, x, y):\n",
    "    m = len(y)\n",
    "    x_prime = np.transpose(x)\n",
    "    \n",
    "    error = sigmoid(np.dot(x,theta)) - y\n",
    "    \n",
    "    #for i in range(x.shape[1]):\n",
    "    #    term = np.dot(error, x[:,i])\n",
    "    #    grad[i] = np.sum(term) / m \n",
    "    grad = (np.dot(x_prime, error))/ m\n",
    "    grad = grad.flatten()\n",
    "    return grad"
   ]
  },
  {
   "cell_type": "code",
   "execution_count": 12,
   "id": "e7a8dd4a",
   "metadata": {},
   "outputs": [],
   "source": [
    "def gradient2(theta, X, y):\n",
    "    theta = np.matrix(theta)\n",
    "    X = np.matrix(X)\n",
    "    y = np.matrix(y)\n",
    "    \n",
    "    parameters = int(theta.ravel().shape[1])\n",
    "    grad = np.zeros(parameters)\n",
    "    \n",
    "    error = sigmoid(X * theta.T) - y\n",
    "    \n",
    "    for i in range(parameters):\n",
    "        term = np.multiply(error, X[:,i])\n",
    "        grad[i] = np.sum(term) / len(X)\n",
    "    \n",
    "    return grad"
   ]
  },
  {
   "cell_type": "code",
   "execution_count": 193,
   "id": "c802d025",
   "metadata": {},
   "outputs": [
    {
     "data": {
      "text/plain": [
       "array([ -0.1       , -12.00921659, -11.26284221])"
      ]
     },
     "execution_count": 193,
     "metadata": {},
     "output_type": "execute_result"
    }
   ],
   "source": [
    "theta_start2 = np.zeros(x.shape[1])\n",
    "gradient2(theta_start2, x, y)"
   ]
  },
  {
   "cell_type": "code",
   "execution_count": 9,
   "id": "9704fabb",
   "metadata": {},
   "outputs": [
    {
     "data": {
      "text/plain": [
       "array([ -0.1       , -12.00921659, -11.26284221])"
      ]
     },
     "execution_count": 9,
     "metadata": {},
     "output_type": "execute_result"
    }
   ],
   "source": [
    "theta_start = np.zeros((x.shape[1], 1))\n",
    "Gradient(theta_start, x, y)"
   ]
  },
  {
   "cell_type": "code",
   "execution_count": 189,
   "id": "65766458",
   "metadata": {},
   "outputs": [
    {
     "name": "stdout",
     "output_type": "stream",
     "text": [
      "Cost at initial theta (zeros) : 0.6931471805599452.\n",
      "Gradient at initial theta (zeros) : [ -0.1        -12.00921659 -11.26284221].\n"
     ]
    }
   ],
   "source": [
    "initial_cost, grad = J(theta_start2, x, y), gradient2(theta_start2, x, y)\n",
    "\n",
    "print(\"Cost at initial theta (zeros) : {}.\".format(initial_cost))\n",
    "print(\"Gradient at initial theta (zeros) : {}.\".format(grad))"
   ]
  },
  {
   "cell_type": "code",
   "execution_count": 10,
   "id": "a9971216",
   "metadata": {},
   "outputs": [
    {
     "name": "stdout",
     "output_type": "stream",
     "text": [
      "Cost at test theta (non-zeros) : 0.2183301938265979.\n",
      "Gradient at test theta (non-zeros) : [0.04290299 2.56623412 2.64679737].\n"
     ]
    }
   ],
   "source": [
    "test_theta = np.array([-24, 0.2, 0.2]).reshape(3,1)\n",
    "initial_cost, grad = J(test_theta, x, y), Gradient(test_theta, x, y)\n",
    "\n",
    "print(\"Cost at test theta (non-zeros) : {}.\".format(initial_cost))\n",
    "print(\"Gradient at test theta (non-zeros) : {}.\".format(grad))"
   ]
  },
  {
   "cell_type": "markdown",
   "id": "a1a62f44",
   "metadata": {},
   "source": [
    "## Learning Parameters using Newton-Conjugate-Gradient"
   ]
  },
  {
   "cell_type": "markdown",
   "id": "d4ae705d",
   "metadata": {},
   "source": [
    "#### Instead of using Gradient Descent, we will use the fmin_ncg() function (an Unconstrained minimization using the Newton-CG method) from scipy.optimize (Note: for logistic regression, there is no constraint on the theta values (theta can take any real value).\n",
    "#### The required parameters for this function are:\n",
    "#### 1) An objective function to be minimized. In our case, this is our cost function J(ϴ).\n",
    "#### 2) Initial guess of the parameters to be optimized i.e., our initialized ϴ values.\n",
    "#### 3) Gradient of J(ϴ)\n",
    "#### 4) maxiter : maximum number of iterations to perform\n",
    "\n",
    "#### The function will return the optimized ϴ values. "
   ]
  },
  {
   "cell_type": "code",
   "execution_count": 13,
   "id": "a9909ce3",
   "metadata": {},
   "outputs": [
    {
     "data": {
      "text/plain": [
       "array([-25.16131856,   0.20623159,   0.20147149])"
      ]
     },
     "execution_count": 13,
     "metadata": {},
     "output_type": "execute_result"
    }
   ],
   "source": [
    "# this is just an alternative using a different optimization method.\n",
    "\n",
    "import scipy.optimize as opt\n",
    "\n",
    "result = opt.fmin_tnc(func=J, x0=theta_start2, fprime = gradient2, args = (x,y))\n",
    "result[0]"
   ]
  },
  {
   "cell_type": "code",
   "execution_count": 14,
   "id": "8abe28fb",
   "metadata": {},
   "outputs": [
    {
     "name": "stdout",
     "output_type": "stream",
     "text": [
      "Optimization terminated successfully.\n",
      "         Current function value: 0.203665\n",
      "         Iterations: 26\n",
      "         Function evaluations: 72\n",
      "         Gradient evaluations: 168\n",
      "         Hessian evaluations: 0\n",
      "Cost at theta found by fmin_ncg() : 0.20366511438025717\n",
      "Theta : [-24.11932876   0.1978909    0.193047  ]\n"
     ]
    }
   ],
   "source": [
    "import scipy.optimize as opt\n",
    "\n",
    "theta_start = np.zeros((x.shape[1], 1))\n",
    "\n",
    "result = opt.fmin_ncg(J, x0=theta_start, fprime = Gradient, args = (x,y.flatten()), maxiter = 400)\n",
    "\n",
    "print(\"Cost at theta found by fmin_ncg() : {}\".format(J(result,x,y)))\n",
    "print('Theta : {}'.format(result))"
   ]
  },
  {
   "cell_type": "markdown",
   "id": "c91d67e2",
   "metadata": {},
   "source": [
    "## Plotting the Boundary Line"
   ]
  },
  {
   "cell_type": "code",
   "execution_count": 15,
   "id": "d66614be",
   "metadata": {},
   "outputs": [
    {
     "data": {
      "image/png": "[encoded data removed]",
      "text/plain": [
       "<Figure size 432x288 with 1 Axes>"
      ]
     },
     "metadata": {
      "needs_background": "light"
     },
     "output_type": "display_data"
    }
   ],
   "source": [
    "def plotdata(data):\n",
    "    one_index = data.index[data['admission'] ==1].tolist()\n",
    "    zero_index = data.index[data['admission'] ==0].tolist()\n",
    "\n",
    "    plt.plot(data.iloc[one_index, 0], data.iloc[one_index, 1], 'k+', linewidth = 2, markersize = 7)\n",
    "    plt.plot(data.iloc[zero_index, 0], data.iloc[zero_index, 1], 'ko', markersize = 7)\n",
    "    plt.xlabel('Exam 1 score')\n",
    "    plt.ylabel('Exam 2 score')\n",
    "    plt.legend(['Admitted', 'Not admitted'])\n",
    "    \n",
    "plotdata(data)"
   ]
  },
  {
   "cell_type": "code",
   "execution_count": 234,
   "id": "bb39ca6f",
   "metadata": {},
   "outputs": [
    {
     "data": {
      "image/png": "[encoded data removed]",
      "text/plain": [
       "<Figure size 432x288 with 1 Axes>"
      ]
     },
     "metadata": {
      "needs_background": "light"
     },
     "output_type": "display_data"
    }
   ],
   "source": [
    "def plotDB(data, theta, x, y):\n",
    "    plotdata(data)\n",
    "    \n",
    "    # we take out two values for x1\n",
    "    x_values = [np.min(x[:, 1]), np.max(x[:, 1])]\n",
    "    # use these x1 values to calculate x2 values\n",
    "    y_values = - (theta[0] + np.dot(theta[1], x_values)) / theta[2]\n",
    "    \n",
    "    plt.plot(x_values, y_values, label='Decision Boundary')\n",
    "\n",
    "plotDB(data, result, x, y)\n",
    "    "
   ]
  },
  {
   "cell_type": "markdown",
   "id": "d9953c4d",
   "metadata": {},
   "source": [
    "## Evaluating Logistic Regression"
   ]
  },
  {
   "cell_type": "markdown",
   "id": "5a390a2a",
   "metadata": {},
   "source": [
    "#### Now, let's predict whether a particular student will be admitted. For a student with an Exam1 score of 45 and an Exam2 score of 85, what is the admission probability?"
   ]
  },
  {
   "cell_type": "code",
   "execution_count": 16,
   "id": "b38c411d",
   "metadata": {},
   "outputs": [
    {
     "data": {
      "text/plain": [
       "0.7675907088980563"
      ]
     },
     "execution_count": 16,
     "metadata": {},
     "output_type": "execute_result"
    }
   ],
   "source": [
    "X = [1, 45, 85]\n",
    "theta = result\n",
    "admin_probability = sigmoid(np.dot(X, theta))\n",
    "admin_probability"
   ]
  },
  {
   "cell_type": "markdown",
   "id": "0edd673e",
   "metadata": {},
   "source": [
    "#### Another way to evaluate the quality of the parameters we have found is to see how well the learned model predicts on our training set. "
   ]
  },
  {
   "cell_type": "code",
   "execution_count": 17,
   "id": "3845499c",
   "metadata": {},
   "outputs": [],
   "source": [
    "# Function for predicting\n",
    "# this will predict whether the label is 1 or 0 using the leraned logistic regression parameters theta\n",
    "\n",
    "def predict(theta, x):\n",
    "    m = len(x)\n",
    "    p = np.zeros((m,1))\n",
    "    for i in range(m):\n",
    "        sig = sigmoid(np.dot(x[i],theta))\n",
    "        if sig > 0.5:\n",
    "            p[i] = 1\n",
    "        else:\n",
    "            p[i] = 0\n",
    "    return p"
   ]
  },
  {
   "cell_type": "code",
   "execution_count": 18,
   "id": "c2e15829",
   "metadata": {},
   "outputs": [
    {
     "name": "stdout",
     "output_type": "stream",
     "text": [
      "Train Accuracy : 89%\n"
     ]
    }
   ],
   "source": [
    "p = predict(result, x)\n",
    "print(\"Train Accuracy : {}%\".format(int(sum(p==y))))"
   ]
  },
  {
   "cell_type": "code",
   "execution_count": null,
   "id": "4cffbbcd",
   "metadata": {},
   "outputs": [],
   "source": []
  }
 ],
 "metadata": {
  "kernelspec": {
   "display_name": "Python 3",
   "language": "python",
   "name": "python3"
  },
  "language_info": {
   "codemirror_mode": {
    "name": "ipython",
    "version": 3
   },
   "file_extension": ".py",
   "mimetype": "text/x-python",
   "name": "python",
   "nbconvert_exporter": "python",
   "pygments_lexer": "ipython3",
   "version": "3.8.8"
  }
 },
 "nbformat": 4,
 "nbformat_minor": 5
}
